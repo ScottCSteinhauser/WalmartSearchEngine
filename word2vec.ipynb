{
 "cells": [
  {
   "cell_type": "code",
   "execution_count": 1,
   "metadata": {},
   "outputs": [],
   "source": [
    "import numpy as np\n",
    "from PyDictionary import PyDictionary\n",
    "import string\n",
    "import eventlet\n",
    "import socketio\n",
    "import csv\n",
    "from math import log"
   ]
  },
  {
   "cell_type": "code",
   "execution_count": 2,
   "metadata": {},
   "outputs": [
    {
     "name": "stdout",
     "output_type": "stream",
     "text": [
      "Running\n"
     ]
    }
   ],
   "source": [
    "import gensim\n",
    "from gensim.models import KeyedVectors\n",
    "\n",
    "print(\"Running\")\n",
    "model = KeyedVectors.load_word2vec_format(\"enwiki_20180420_100d.txt\", binary=False)  # C text format\n"
   ]
  },
  {
   "cell_type": "code",
   "execution_count": 3,
   "metadata": {},
   "outputs": [],
   "source": [
    "class Product:\n",
    "    def __init__(self, name, url, price, review_score, num_reviews, description, category):\n",
    "        if len(price) == 0:\n",
    "            price = '0'\n",
    "        if len(review_score) == 0:\n",
    "            review_score = '0'\n",
    "        if len(num_reviews) == 0:\n",
    "            num_reviews = '0'\n",
    "        \n",
    "        self.name = name\n",
    "        self.url = url\n",
    "        self.price = float(price)\n",
    "        self.review_score = float(review_score)\n",
    "        self.num_reviews = int(num_reviews)\n",
    "        self.description = description\n",
    "        self.category = category\n",
    "    \n",
    "    def __lt__(self, other):\n",
    "        return self.name < other.name\n",
    "\n",
    "    def to_dict(self):\n",
    "        res = dict()\n",
    "        res['name'] = self.name\n",
    "        res['url'] = self.url\n",
    "        res['price'] = float(self.price)\n",
    "        res['review_score'] = float(self.review_score)\n",
    "        res['num_reviews'] = int(self.num_reviews)\n",
    "        res['description'] = self.description\n",
    "        res['category'] = self.category\n",
    "        \n",
    "        return res"
   ]
  },
  {
   "cell_type": "code",
   "execution_count": 4,
   "metadata": {},
   "outputs": [],
   "source": [
    "csvfile = open('products.csv', 'r', encoding=\"utf-8\")\n",
    "reader = csv.reader(csvfile, delimiter=',',quotechar='\"')\n",
    "products = dict()\n",
    "count = 0\n",
    "for row in reader:\n",
    "    if count == 0:\n",
    "        count += 1\n",
    "        continue\n",
    "        \n",
    "    prod = Product(row[0], row[1], row[2], row[3], row[4], row[5] + \" \" + row[6], row[7])\n",
    "    products[row[1]] = prod\n",
    "    \n"
   ]
  },
  {
   "cell_type": "code",
   "execution_count": 5,
   "metadata": {},
   "outputs": [
    {
     "name": "stdout",
     "output_type": "stream",
     "text": [
      "0.76212156\n"
     ]
    }
   ],
   "source": [
    "word1 = \"scott\"\n",
    "word2 = \"alex\"\n",
    "try: \n",
    "    print(model.similarity(word1, word2)) \n",
    "except: \n",
    "    print(\"One of the words not in the dictionary\")"
   ]
  },
  {
   "cell_type": "code",
   "execution_count": 6,
   "metadata": {},
   "outputs": [],
   "source": [
    "bad_words = set([\"to\", \"i\", \"am\", \"the\", \"you\", \"me\", \"is\", \"it\", \"this\", \"and\", \"or\", \"in\", \"who\", \"whom\", \"their\", \"there\", \"they're\", \"Donald Trump\",\"a\",\"about\",\"all\",\"also\",\"and\",\"as\",\"at\",\"be\",\"because\",\"but\",\"by\",\"can\",\"come\",\"could\",\"day\",\"do\",\"even\",\"find\",\"first\",\"for\",\"from\",\"get\",\"give\",\"go\",\"have\",\"he\",\"her\",\"here\",\"him\",\"his\",\"how\",\"I\",\"if\",\"in\",\"into\",\"it\",\"its\",\"just\",\"know\",\"like\",\"look\",\"make\",\"man\",\"many\",\"me\",\"more\",\"my\",\"new\",\"no\",\"not\",\"now\",\"of\",\"on\",\"one\",\"only\",\"or\",\"other\",\"our\",\"out\",\"people\",\"say\",\"see\",\"she\",\"so\",\"some\",\"take\",\"tell\",\"than\",\"that\",\"the\",\"their\",\"them\",\"then\",\"there\",\"these\",\"they\",\"thing\",\"think\",\"this\",\"those\",\"time\",\"to\",\"two\",\"up\",\"use\",\"very\",\"want\",\"way\",\"we\",\"well\",\"what\",\"when\",\"which\",\"who\",\"will\",\"with\",\"would\",\"year\",\"you\",\"your\"])\n",
    "\n",
    "def comparePhrases(phrase1, phrase2):\n",
    "    phrase1 = phrase1.lower().translate(string.punctuation).split()\n",
    "    phrase2 = phrase2.lower().translate(string.punctuation).split()\n",
    "\n",
    "    vec1 = np.zeros(shape=(100,))\n",
    "    vec1.setflags(write=1)\n",
    "\n",
    "    for i in range(0, len(phrase1)):\n",
    "        word = phrase1[i]\n",
    "        if word in bad_words:\n",
    "            continue\n",
    "        if word not in model.vocab:\n",
    "            #print(word)\n",
    "            continue\n",
    "        vec1 += model[word].copy()\n",
    "\n",
    "    vec1 = vec1 / np.linalg.norm(vec1)\n",
    "\n",
    "    vec2 = np.zeros(shape=(100,))\n",
    "    vec2.setflags(write=1)\n",
    "\n",
    "    for i in range(0, len(phrase2)):\n",
    "        word = phrase2[i]\n",
    "        if word in bad_words:\n",
    "            continue\n",
    "        if word not in model.vocab:\n",
    "            #print(word)\n",
    "            continue\n",
    "        vec2 += model[word].copy()\n",
    "\n",
    "    vec2 = vec2 / np.linalg.norm(vec2)\n",
    "    res = 0\n",
    "    for i in range(len(vec2)):\n",
    "        res += vec1[i] * vec2[i]\n",
    "\n",
    "    return res\n",
    "\n",
    "def relevanceHeuristic(searchTerm, product):\n",
    "    # Return relevance score between search term and product phrase\n",
    "    heuristic = comparePhrases(searchTerm, product.name) #+ comparePhrases(searchTerm, product.description)\n",
    "    if heuristic < 0.6:\n",
    "        return 0\n",
    "    return heuristic\n",
    "\n",
    "def popularityHeuristic(product, relevanceScore):\n",
    "    # Return popularity score for product that has already passed relevance test\n",
    "    if product.num_reviews > 0:\n",
    "        popularity = log(product.num_reviews, 100) / 10 + 0.5\n",
    "        popularity *= product.review_score\n",
    "    else:\n",
    "        return relevanceScore\n",
    "    popularity *= 3 * (relevanceScore - 0.1)**10\n",
    "    \n",
    "    return relevanceScore + popularity\n",
    "    "
   ]
  },
  {
   "cell_type": "code",
   "execution_count": null,
   "metadata": {},
   "outputs": [
    {
     "name": "stderr",
     "output_type": "stream",
     "text": [
      "(13404) wsgi starting up on http://0.0.0.0:12345\n",
      "(13404) accepted ('127.0.0.1', 49204)\n",
      "127.0.0.1 - - [18/Oct/2020 07:03:37] \"GET /socket.io/?EIO=3&transport=polling&t=NKxb-zE HTTP/1.1\" 200 439 0.000998\n"
     ]
    },
    {
     "name": "stdout",
     "output_type": "stream",
     "text": [
      "connect  e0df20fa050f4140a7e7b791c545fb54\n",
      "connect  79b1d8c79c694ae59094436e5c2b552d\n"
     ]
    },
    {
     "name": "stderr",
     "output_type": "stream",
     "text": [
      "127.0.0.1 - - [18/Oct/2020 07:03:37] \"GET /socket.io/?EIO=3&transport=polling&t=NKxb_Oi HTTP/1.1\" 200 423 0.000996\n",
      "(13404) accepted ('127.0.0.1', 49202)\n",
      "(13404) accepted ('127.0.0.1', 49212)\n",
      "(13404) accepted ('127.0.0.1', 49213)\n",
      "(13404) accepted ('127.0.0.1', 49203)\n",
      "127.0.0.1 - - [18/Oct/2020 07:03:38] \"GET /socket.io/?EIO=3&transport=polling&t=NKxb_mE&sid=79b1d8c79c694ae59094436e5c2b552d HTTP/1.1\" 200 235 0.421180\n",
      "(13404) accepted ('127.0.0.1', 49215)\n",
      "127.0.0.1 - - [18/Oct/2020 07:03:38] \"GET /socket.io/?EIO=3&transport=polling&t=NKxb_mE&sid=e0df20fa050f4140a7e7b791c545fb54 HTTP/1.1\" 200 251 0.165239\n"
     ]
    },
    {
     "name": "stdout",
     "output_type": "stream",
     "text": [
      "e0df20fa050f4140a7e7b791c545fb54 computer\n"
     ]
    },
    {
     "name": "stderr",
     "output_type": "stream",
     "text": [
      "D:\\HDD_Programs\\Anaconda\\lib\\site-packages\\ipykernel_launcher.py:33: RuntimeWarning: invalid value encountered in true_divide\n"
     ]
    },
    {
     "name": "stdout",
     "output_type": "stream",
     "text": [
      "e0df20fa050f4140a7e7b791c545fb54 laptop\n",
      "e0df20fa050f4140a7e7b791c545fb54 cookie jar\n",
      "e0df20fa050f4140a7e7b791c545fb54 cookie dough\n",
      "e0df20fa050f4140a7e7b791c545fb54 cookie dough\n",
      "e0df20fa050f4140a7e7b791c545fb54 cheese\n",
      "79b1d8c79c694ae59094436e5c2b552d pet food\n"
     ]
    }
   ],
   "source": [
    "sio = socketio.Server(cors_allowed_origins='*')\n",
    "app = socketio.WSGIApp(sio, static_files={\n",
    "    '/': {'content_type': 'text/html', 'filename': 'index.html'}\n",
    "})\n",
    "\n",
    "@sio.event\n",
    "def connect(sid, environ):\n",
    "    print('connect ', sid)\n",
    "\n",
    "@sio.event\n",
    "def my_message(sid, data):\n",
    "    print('message ', data)\n",
    "\n",
    "@sio.event\n",
    "def disconnect(sid):\n",
    "    print('disconnect ', sid)\n",
    "\n",
    "@sio.event\n",
    "def execute_search(sid, data):\n",
    "    print(sid, data)\n",
    "    if(str(data) == \"exit\"):\n",
    "        sio.stop()\n",
    "        \n",
    "    # Sort products by relevance\n",
    "    relevance = []\n",
    "    for product in products:\n",
    "        relevanceScore = relevanceHeuristic(str(data), products[product])\n",
    "        if relevanceScore > 0:\n",
    "            popularityScore = popularityHeuristic(products[product], relevanceScore)\n",
    "            relevance.append((popularityScore, relevanceScore, products[product]))\n",
    "    relevance = sorted(relevance)\n",
    "    maxSize = max(200, len(relevance))\n",
    "    # Get products as list of dictionaries to send\n",
    "    returnList = []\n",
    "    for i in range(len(relevance) - 1, len(relevance) - maxSize, -1):\n",
    "        if maxSize == 0:\n",
    "            break\n",
    "        returnList.append(relevance[i][2].to_dict())\n",
    "    sio.emit('reply', {'response': returnList}, room=sid)\n",
    "\n",
    "if __name__ == '__main__':\n",
    "    eventlet.wsgi.server(eventlet.listen(('', 12345)), app)"
   ]
  },
  {
   "cell_type": "code",
   "execution_count": null,
   "metadata": {},
   "outputs": [],
   "source": []
  },
  {
   "cell_type": "code",
   "execution_count": null,
   "metadata": {},
   "outputs": [],
   "source": []
  },
  {
   "cell_type": "code",
   "execution_count": null,
   "metadata": {},
   "outputs": [],
   "source": []
  },
  {
   "cell_type": "code",
   "execution_count": null,
   "metadata": {},
   "outputs": [],
   "source": []
  }
 ],
 "metadata": {
  "kernelspec": {
   "display_name": "Python 3",
   "language": "python",
   "name": "python3"
  },
  "language_info": {
   "codemirror_mode": {
    "name": "ipython",
    "version": 3
   },
   "file_extension": ".py",
   "mimetype": "text/x-python",
   "name": "python",
   "nbconvert_exporter": "python",
   "pygments_lexer": "ipython3",
   "version": "3.6.5"
  }
 },
 "nbformat": 4,
 "nbformat_minor": 2
}
